{
 "cells": [
  {
   "attachments": {},
   "cell_type": "markdown",
   "metadata": {},
   "source": [
    "## Listas\n",
    "Listas são estruturas de dados muito úteis para manipulação e análise de dados. Nesta aula vamos aprender os princípios básicos para manipulação de listas. Criar uma lista em Python é muito simples: \\\n",
    "l = [] # Cria uma lista vazia \\\n",
    "l = [1, 2, 3, 4, 5] # Cria uma lista com 5 inteiros"
   ]
  },
  {
   "cell_type": "code",
   "execution_count": 1,
   "metadata": {},
   "outputs": [],
   "source": [
    "l = [1, 2, 3, 4, 5, 6, 7, 8, 9]"
   ]
  },
  {
   "cell_type": "markdown",
   "metadata": {},
   "source": [
    "Para acessar os itens de uma lista, basta utilizar índices, de forma similar ao funcionamento de vetores na linguagem C. Vamos acessar o segundo elemento da nossa lista."
   ]
  },
  {
   "cell_type": "code",
   "execution_count": 2,
   "metadata": {},
   "outputs": [
    {
     "name": "stdout",
     "output_type": "stream",
     "text": [
      "4\n"
     ]
    }
   ],
   "source": [
    "print(l[2])"
   ]
  },
  {
   "attachments": {},
   "cell_type": "markdown",
   "metadata": {},
   "source": [
    "Pode ser necessário acessar mais de um elemento de uma lista. Neste caso, o que se deseja é obter uma sublista da lista original. Python provê um mecanismo muito simples para gerar uma sublista de uma lista.\n",
    "Vamos obter os elementos do meio da nossa lista, excluindo o primeiro e o último. Como fazer isso?"
   ]
  },
  {
   "cell_type": "code",
   "execution_count": 10,
   "metadata": {},
   "outputs": [
    {
     "name": "stdout",
     "output_type": "stream",
     "text": [
      "[2, 3, 4, 5, 6, 7, 8]\n"
     ]
    }
   ],
   "source": [
    "\n",
    "subLista = l[1:-1]\n",
    "print(subLista)"
   ]
  },
  {
   "cell_type": "markdown",
   "metadata": {},
   "source": [
    "Diferentemente de um vetor, uma lista pode conter elementos de diferentes tipos. Vamos criar uma lista com inteiros, números de ponto flutuante e strings."
   ]
  },
  {
   "cell_type": "code",
   "execution_count": null,
   "metadata": {},
   "outputs": [],
   "source": [
    "minha_lista = [ \"casa\", 3, 3.4]"
   ]
  },
  {
   "cell_type": "markdown",
   "metadata": {},
   "source": [
    "Vamos checar agora os tipos dos dados que estamos manipulando."
   ]
  },
  {
   "cell_type": "code",
   "execution_count": 12,
   "metadata": {},
   "outputs": [
    {
     "name": "stdout",
     "output_type": "stream",
     "text": [
      "o tipo e: <class 'str'>\n",
      "o tipo e: <class 'int'>\n",
      "o tipo e: <class 'float'>\n"
     ]
    }
   ],
   "source": [
    "minha_lista = [\"casa\", 3, 3.4]\n",
    "for item in minha_lista:\n",
    "    print(f'o tipo e: {type(item)}')"
   ]
  },
  {
   "cell_type": "markdown",
   "metadata": {},
   "source": [
    "Outra característica importante é que elementos de uma lista podem também ser listas, ou seja, podemos ter listas de listas. Vejamos um exemplo:"
   ]
  },
  {
   "cell_type": "code",
   "execution_count": 1,
   "metadata": {},
   "outputs": [
    {
     "data": {
      "text/plain": [
       "[[1, 2, 3], ['um', 'dois', 'três']]"
      ]
     },
     "execution_count": 1,
     "metadata": {},
     "output_type": "execute_result"
    }
   ],
   "source": [
    "ll = [[1, 2, 3], ['um', 'dois', 'três']]\n"
   ]
  },
  {
   "cell_type": "markdown",
   "metadata": {},
   "source": [
    "Se quisermos acessar a string 'três', como devemos proceder?"
   ]
  },
  {
   "cell_type": "code",
   "execution_count": 20,
   "metadata": {},
   "outputs": [
    {
     "name": "stdout",
     "output_type": "stream",
     "text": [
      "três\n"
     ]
    }
   ],
   "source": [
    "ll = [[1, 2, 3], ['um', 'dois', 'três']]\n",
    "item = ll[1][2]\n",
    "print(item)"
   ]
  },
  {
   "cell_type": "markdown",
   "metadata": {},
   "source": [
    "Vamos agora alterar uma lista. Retomando nossa lista inicial l = [1, 2, 3, 4, 5], vamos substituir o inteiro 1 pela string 'um'."
   ]
  },
  {
   "cell_type": "code",
   "execution_count": 23,
   "metadata": {},
   "outputs": [
    {
     "name": "stdout",
     "output_type": "stream",
     "text": [
      "um\n",
      "2\n",
      "3\n"
     ]
    }
   ],
   "source": [
    "l = [1 , 2, 3]\n",
    "\n",
    "l[0] = \"um\"\n",
    "\n",
    "for item in l:  \n",
    "    print(item)"
   ]
  },
  {
   "cell_type": "markdown",
   "metadata": {},
   "source": [
    "Se quisermos adicionar um elemento a uma lista, usamos o método append."
   ]
  },
  {
   "cell_type": "code",
   "execution_count": 24,
   "metadata": {},
   "outputs": [
    {
     "name": "stdout",
     "output_type": "stream",
     "text": [
      "1\n",
      "2\n",
      "3\n",
      "9\n"
     ]
    }
   ],
   "source": [
    "l = [1 , 2, 3]\n",
    "l.append(9)\n",
    "\n",
    "for item in l:\n",
    "    print(item)"
   ]
  },
  {
   "cell_type": "markdown",
   "metadata": {},
   "source": [
    "Para remover um elemento da lista, o método 'pop' deve ser utilizado. Se não for informado um índice, o método pop removerá o elemento da cauda da lista. Se um índice for informado, o elemento que corresponde à posição do índice será removido."
   ]
  },
  {
   "cell_type": "code",
   "execution_count": 25,
   "metadata": {},
   "outputs": [
    {
     "name": "stdout",
     "output_type": "stream",
     "text": [
      "1\n",
      "2\n"
     ]
    }
   ],
   "source": [
    "l = [1 , 2, 3]\n",
    "\n",
    "l.pop(2)\n",
    "\n",
    "for item in l:\n",
    "    print(item)"
   ]
  },
  {
   "cell_type": "code",
   "execution_count": 26,
   "metadata": {},
   "outputs": [
    {
     "name": "stdout",
     "output_type": "stream",
     "text": [
      "1\n",
      "2\n"
     ]
    }
   ],
   "source": [
    "l = [1 , 2, 3]\n",
    "\n",
    "l.pop()\n",
    "\n",
    "for item in l:\n",
    "    print(item)"
   ]
  },
  {
   "attachments": {},
   "cell_type": "markdown",
   "metadata": {},
   "source": [
    "Existem ainda uma série de métodos muito úteis para manipulação de listas. Se você está utilizando o VS Code, o autocomplete lista todos os métodos disponíveis para manipulação de listas. Se estiver usando o Jupyter Notebook no browser, basta pressionar Tab após referenciar a lista para ver todos os métodos disponíveis. Vejamos alguns métodos interessantes: \\\n",
    "-count: conta as ocorrências de um determinado elemento numa lista \\\n",
    "-reverse: inverte a lista \\\n",
    "-insert: insere um elemento numa determinada posição, se já existe um elemento naquela posição, o elemento é deslocado para a posição seguinte \\\n",
    "-remove: similar ao pop \\\n",
    "-sort: ordena a lista"
   ]
  },
  {
   "attachments": {},
   "cell_type": "markdown",
   "metadata": {},
   "source": [
    "Suponha que você queira criar uma lista com números gerados automaticamente. Para tanto, você pode usar o método range. Duas assinaturas são possíveis: \\\n",
    "range (stop): gera números a partir do zero até 'stop' \\\n",
    "range (start, stop): gera números a partir de 'start' até 'stop' \\\n",
    "range (start, stop, step): gera números a partir de 'start' até 'stop' com espaçamento entre os números de 'step'"
   ]
  },
  {
   "cell_type": "code",
   "execution_count": 33,
   "metadata": {},
   "outputs": [
    {
     "name": "stdout",
     "output_type": "stream",
     "text": [
      "2\n",
      "[3, 3, 2, 1]\n",
      "[3, 5, 3, 2, 1]\n",
      "[1, 2, 3, 3, 5]\n"
     ]
    }
   ],
   "source": [
    "l = [1 , 2, 3, 3]\n",
    "\n",
    "print(l.count(3))\n",
    "l.reverse()\n",
    "print(l)\n",
    "\n",
    "l.insert(1,5)\n",
    "print(l)\n",
    "\n",
    "l.sort()\n",
    "print(l)\n"
   ]
  },
  {
   "cell_type": "code",
   "execution_count": null,
   "metadata": {},
   "outputs": [],
   "source": []
  },
  {
   "cell_type": "code",
   "execution_count": null,
   "metadata": {},
   "outputs": [],
   "source": []
  },
  {
   "attachments": {},
   "cell_type": "markdown",
   "metadata": {},
   "source": [
    "Por fim, podemos processar uma lista usando um laço for. Vamos criar uma lista de nomes e imprimir de forma numerada essa lista."
   ]
  },
  {
   "cell_type": "code",
   "execution_count": null,
   "metadata": {},
   "outputs": [],
   "source": []
  },
  {
   "attachments": {},
   "cell_type": "markdown",
   "metadata": {},
   "source": [
    "Exercício \\\n",
    "Crie uma lista contendo as seguintes frutas: banana, maçã, pera, caqui e laranja. \\\n",
    "A. Ordene e imprima a lista\n",
    "B. Insira abacate no início da lista e uva no final e imprima a lista \\\n",
    "C. Imprima o elemento do meio da lista \\\n",
    "D. Imprima os 3 primeiros elementos da lista \\\n",
    "E. Imprima os 3 últimos elementos da lista \\\n",
    "F. Inverta a lista e imprima a lista invertida \\\n",
    "G. Imprima uma lista de compras contendo 3 unidades de cada fruta"
   ]
  },
  {
   "cell_type": "code",
   "execution_count": 14,
   "metadata": {},
   "outputs": [
    {
     "name": "stdout",
     "output_type": "stream",
     "text": [
      "['abacate', 'banana', 'maca', 'pera', 'caqui', 'laranja']\n",
      "['abacate', 'banana', 'maca']\n",
      "['pera', 'caqui', 'laranja']\n",
      "['laranja', 'caqui', 'pera', 'maca', 'banana', 'abacate']\n",
      "3 - laranja\n",
      "3 - caqui\n",
      "3 - pera\n",
      "3 - maca\n",
      "3 - banana\n",
      "3 - abacate\n"
     ]
    }
   ],
   "source": [
    "lista = [\"banana\",\"maca\",\"pera\", \"caqui\", \"laranja\"]\n",
    "\n",
    "lista.insert(0,\"abacate\")\n",
    "print(lista)\n",
    "\n",
    "print(lista[0:3])\n",
    "\n",
    "print(lista[3:6])\n",
    "\n",
    "lista.reverse()\n",
    "print(lista)\n",
    "\n",
    "for cont in lista:\n",
    "    print(f'3 - {cont}')\n"
   ]
  },
  {
   "cell_type": "code",
   "execution_count": 11,
   "metadata": {},
   "outputs": [
    {
     "ename": "TypeError",
     "evalue": "list indices must be integers or slices, not str",
     "output_type": "error",
     "traceback": [
      "\u001b[1;31m---------------------------------------------------------------------------\u001b[0m",
      "\u001b[1;31mTypeError\u001b[0m                                 Traceback (most recent call last)",
      "Cell \u001b[1;32mIn[11], line 2\u001b[0m\n\u001b[0;32m      1\u001b[0m \u001b[39mfor\u001b[39;00m cont \u001b[39min\u001b[39;00m lista:\n\u001b[1;32m----> 2\u001b[0m     \u001b[39mprint\u001b[39m(\u001b[39mf\u001b[39m\u001b[39m'\u001b[39m\u001b[39m3 - \u001b[39m\u001b[39m{\u001b[39;00mlista[cont]\u001b[39m}\u001b[39;00m\u001b[39m'\u001b[39m)\n",
      "\u001b[1;31mTypeError\u001b[0m: list indices must be integers or slices, not str"
     ]
    }
   ],
   "source": []
  },
  {
   "cell_type": "code",
   "execution_count": null,
   "metadata": {},
   "outputs": [],
   "source": []
  },
  {
   "cell_type": "code",
   "execution_count": null,
   "metadata": {},
   "outputs": [],
   "source": []
  },
  {
   "cell_type": "code",
   "execution_count": null,
   "metadata": {},
   "outputs": [],
   "source": []
  },
  {
   "cell_type": "code",
   "execution_count": null,
   "metadata": {},
   "outputs": [],
   "source": []
  },
  {
   "cell_type": "code",
   "execution_count": null,
   "metadata": {},
   "outputs": [],
   "source": []
  }
 ],
 "metadata": {
  "kernelspec": {
   "display_name": "Python 3 (ipykernel)",
   "language": "python",
   "name": "python3"
  },
  "language_info": {
   "codemirror_mode": {
    "name": "ipython",
    "version": 3
   },
   "file_extension": ".py",
   "mimetype": "text/x-python",
   "name": "python",
   "nbconvert_exporter": "python",
   "pygments_lexer": "ipython3",
   "version": "3.11.4"
  },
  "vscode": {
   "interpreter": {
    "hash": "375cb2be7c48c11bb855aa4c37dc6c17bef886eb77cae35fc21e121628c6e1e2"
   }
  }
 },
 "nbformat": 4,
 "nbformat_minor": 2
}
